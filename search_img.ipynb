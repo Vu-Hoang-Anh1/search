{
 "cells": [
  {
   "cell_type": "code",
   "execution_count": 34,
   "metadata": {},
   "outputs": [],
   "source": [
    "# import thu vien\n",
    "import os\n",
    "\n",
    "from tensorflow.keras.preprocessing import image\n",
    "from tensorflow.keras.applications.vgg16 import VGG16, preprocess_input\n",
    "from tensorflow.keras.models import  Model\n",
    "\n",
    "from PIL import Image\n",
    "import pickle\n",
    "import numpy as np\n",
    "import matplotlib.pyplot as plt\n",
    "import math\n",
    "import streamlit as st\n",
    "import time\n",
    "from scipy.spatial.distance import cdist"
   ]
  },
  {
   "cell_type": "code",
   "execution_count": 6,
   "metadata": {},
   "outputs": [],
   "source": [
    "path_dataset= 'anhhoa_resize'"
   ]
  },
  {
   "cell_type": "code",
   "execution_count": 7,
   "metadata": {},
   "outputs": [],
   "source": [
    "# Ham tao model\n",
    "def get_extract_model():\n",
    "    vgg16_model = VGG16(weights=\"imagenet\")\n",
    "    extract_model = Model(inputs=vgg16_model.inputs, outputs = vgg16_model.get_layer(\"fc1\").output)\n",
    "    return extract_model"
   ]
  },
  {
   "cell_type": "code",
   "execution_count": 8,
   "metadata": {},
   "outputs": [],
   "source": [
    "# Ham tien xu ly, chuyen doi hinh anh thanh tensor\n",
    "def image_preprocess(img):\n",
    "    img = img.resize((224,224))\n",
    "    img = img.convert(\"RGB\")\n",
    "    x = image.img_to_array(img)\n",
    "    x = np.expand_dims(x, axis=0)\n",
    "    x = preprocess_input(x)\n",
    "    return x\n",
    "\n",
    "def extract_vector(model, image_path):\n",
    "    print(\"Xu ly : \", image_path)\n",
    "    img = Image.open(image_path)\n",
    "    img_tensor = image_preprocess(img)\n",
    "\n",
    "    # Trich dac trung\n",
    "    vector = model.predict(img_tensor)[0]\n",
    "    # Chuan hoa vector = chia chia L2 norm (tu google search)\n",
    "    vector = vector / np.linalg.norm(vector)\n",
    "    return vector"
   ]
  },
  {
   "cell_type": "code",
   "execution_count": 27,
   "metadata": {},
   "outputs": [],
   "source": [
    "search_img = \"hoahong02.jpg\""
   ]
  },
  {
   "cell_type": "code",
   "execution_count": 32,
   "metadata": {},
   "outputs": [
    {
     "name": "stdout",
     "output_type": "stream",
     "text": [
      "Xu ly :  hoahong02.jpg\n",
      "WARNING:tensorflow:6 out of the last 6 calls to <function TensorFlowTrainer.make_predict_function.<locals>.one_step_on_data_distributed at 0x00000201F6ED1FC0> triggered tf.function retracing. Tracing is expensive and the excessive number of tracings could be due to (1) creating @tf.function repeatedly in a loop, (2) passing tensors with different shapes, (3) passing Python objects instead of tensors. For (1), please define your @tf.function outside of the loop. For (2), @tf.function has reduce_retracing=True option that can avoid unnecessary retracing. For (3), please refer to https://www.tensorflow.org/guide/function#controlling_retracing and https://www.tensorflow.org/api_docs/python/tf/function for  more details.\n",
      "\u001b[1m1/1\u001b[0m \u001b[32m━━━━━━━━━━━━━━━━━━━━\u001b[0m\u001b[37m\u001b[0m \u001b[1m0s\u001b[0m 195ms/step\n"
     ]
    }
   ],
   "source": [
    "#khoi tao model\n",
    "model = get_extract_model()\n",
    "\n",
    "#trich chon dac trung anh search\n",
    "search_vector = extract_vector(model, search_img)\n",
    "\n",
    "#load model\n",
    "vectors = pickle.load(open(\"vectors.pkl\",\"rb\"))\n",
    "paths = pickle.load(open(\"paths.pkl\",\"rb\"))"
   ]
  },
  {
   "cell_type": "code",
   "execution_count": 35,
   "metadata": {},
   "outputs": [
    {
     "name": "stderr",
     "output_type": "stream",
     "text": [
      "2024-06-07 15:41:42.985 \n",
      "  \u001b[33m\u001b[1mWarning:\u001b[0m to view this Streamlit app on a browser, run it with the following\n",
      "  command:\n",
      "\n",
      "    streamlit run C:\\Users\\Admin\\AppData\\Roaming\\Python\\Python310\\site-packages\\ipykernel_launcher.py [ARGUMENTS]\n"
     ]
    }
   ],
   "source": [
    "# Tính khoảng cách giữa vector tìm kiếm và các vector trong tập dữ liệu\n",
    "distance = np.linalg.norm(vectors - search_vector, axis=1)\n",
    "\n",
    "# Chọn ra K ảnh có khoảng cách ngắn nhất\n",
    "K = 3\n",
    "ids = np.argsort(distance)[:K]\n",
    "nearest_images = [(paths[id], distance[id]) for id in ids]\n",
    "\n",
    "# Tạo giao diện Streamlit\n",
    "st.title(\"Top 3 Most Similar Images\")\n",
    "st.write(\"Search Image:\")\n",
    "st.image(search_img)\n",
    "\n",
    "for idx, (path, dist) in enumerate(nearest_images):\n",
    "    st.write(f\"Similar Image {idx+1}:\")\n",
    "    st.image(Image.open(path))\n",
    "    st.write(f\"Distance: {dist:.2f}\")\n"
   ]
  }
 ],
 "metadata": {
  "kernelspec": {
   "display_name": "Python 3",
   "language": "python",
   "name": "python3"
  },
  "language_info": {
   "codemirror_mode": {
    "name": "ipython",
    "version": 3
   },
   "file_extension": ".py",
   "mimetype": "text/x-python",
   "name": "python",
   "nbconvert_exporter": "python",
   "pygments_lexer": "ipython3",
   "version": "3.10.11"
  }
 },
 "nbformat": 4,
 "nbformat_minor": 2
}
